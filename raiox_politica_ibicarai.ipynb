{
 "cells": [
  {
   "cell_type": "markdown",
   "metadata": {},
   "source": [
    "# Análise de Dados - Comparação Candidatos do Estado da Bahia"
   ]
  },
  {
   "cell_type": "markdown",
   "metadata": {},
   "source": [
    "#### Instalando as bibliotecas"
   ]
  },
  {
   "cell_type": "code",
   "execution_count": 302,
   "metadata": {},
   "outputs": [],
   "source": [
    "import pandas as pd\n",
    "import matplotlib.pyplot as plt\n",
    "import seaborn as sns\n",
    "import collections\n",
    "from wordcloud import WordCloud, STOPWORDS\n",
    "\n",
    "plt.style.use('fivethirtyeight')\n",
    "\n",
    "%matplotlib inline"
   ]
  },
  {
   "cell_type": "markdown",
   "metadata": {},
   "source": [
    "#### Candidatos de Ibicarai - Lendo os dados e selecionando as colunas para analise"
   ]
  },
  {
   "cell_type": "code",
   "execution_count": 2,
   "metadata": {},
   "outputs": [],
   "source": [
    "colunas=['NR_CANDIDATO', 'NM_CANDIDATO', 'NM_URNA_CANDIDATO', 'DS_ELEICAO', 'DT_ELEICAO', \n",
    "            'SG_UF', 'NM_UE', 'DS_CARGO', 'SG_PARTIDO', 'NM_MUNICIPIO_NASCIMENTO', 'NR_IDADE_DATA_POSSE',\n",
    "     'DS_GENERO', 'DS_GRAU_INSTRUCAO', 'DS_ESTADO_CIVIL', 'DS_COR_RACA', 'DS_OCUPACAO']"
   ]
  },
  {
   "cell_type": "code",
   "execution_count": 3,
   "metadata": {},
   "outputs": [],
   "source": [
    "dados = pd.read_csv('consulta_cand_2020_BA.csv', encoding='latin', sep=';', usecols=colunas)\n",
    "dados = dados.rename(columns={'NM_UE':'cidade', 'NR_CANDIDATO':'numero', 'NM_CANDIDATO':'nome', \n",
    "                                              'NM_URNA_CANDIDATO':'nome_urna', 'DS_CARGO':'cargo', 'SG_PARTIDO':'partido',\n",
    "                                              'NM_MUNICIPIO_NASCIMENTO':'cidade_nascimento', \n",
    "                                              'NR_IDADE_DATA_POSSE':'idade_na_posse', 'DS_GENERO':'sexo',\n",
    "                                              'DS_GRAU_INSTRUCAO':'grau_instrucao', 'DS_ESTADO_CIVIL':'estado_civil',\n",
    "                                              'DS_COR_RACA':'cor_raca', 'DS_OCUPACAO':'ocupacao'\n",
    "                                             })"
   ]
  },
  {
   "cell_type": "code",
   "execution_count": 4,
   "metadata": {},
   "outputs": [],
   "source": [
    "# dropar colunas desnecessárias\n",
    "dados.drop(columns=['DS_ELEICAO', 'DT_ELEICAO', 'SG_UF'], inplace=True)"
   ]
  },
  {
   "cell_type": "code",
   "execution_count": 20,
   "metadata": {},
   "outputs": [
    {
     "data": {
      "text/html": [
       "<div>\n",
       "<style scoped>\n",
       "    .dataframe tbody tr th:only-of-type {\n",
       "        vertical-align: middle;\n",
       "    }\n",
       "\n",
       "    .dataframe tbody tr th {\n",
       "        vertical-align: top;\n",
       "    }\n",
       "\n",
       "    .dataframe thead th {\n",
       "        text-align: right;\n",
       "    }\n",
       "</style>\n",
       "<table border=\"1\" class=\"dataframe\">\n",
       "  <thead>\n",
       "    <tr style=\"text-align: right;\">\n",
       "      <th></th>\n",
       "      <th>cidade</th>\n",
       "      <th>cargo</th>\n",
       "      <th>numero</th>\n",
       "      <th>nome</th>\n",
       "      <th>nome_urna</th>\n",
       "      <th>partido</th>\n",
       "      <th>cidade_nascimento</th>\n",
       "      <th>idade_na_posse</th>\n",
       "      <th>sexo</th>\n",
       "      <th>grau_instrucao</th>\n",
       "      <th>estado_civil</th>\n",
       "      <th>cor_raca</th>\n",
       "      <th>ocupacao</th>\n",
       "    </tr>\n",
       "  </thead>\n",
       "  <tbody>\n",
       "    <tr>\n",
       "      <th>0</th>\n",
       "      <td>Camacã</td>\n",
       "      <td>Vereador</td>\n",
       "      <td>10123</td>\n",
       "      <td>Leonardo Moreira Malaquias</td>\n",
       "      <td>Lió Da Civil</td>\n",
       "      <td>REPUBLICANOS</td>\n",
       "      <td>Camacã</td>\n",
       "      <td>50</td>\n",
       "      <td>Masculino</td>\n",
       "      <td>Ensino Médio Completo</td>\n",
       "      <td>Solteiro(A)</td>\n",
       "      <td>Branca</td>\n",
       "      <td>Policial Civil</td>\n",
       "    </tr>\n",
       "    <tr>\n",
       "      <th>1</th>\n",
       "      <td>Santa Brígida</td>\n",
       "      <td>Vereador</td>\n",
       "      <td>12555</td>\n",
       "      <td>Jerferson Oliveira Neto</td>\n",
       "      <td>Xaverinho Do Pipa</td>\n",
       "      <td>PDT</td>\n",
       "      <td>Santa Brígida</td>\n",
       "      <td>32</td>\n",
       "      <td>Masculino</td>\n",
       "      <td>Ensino Médio Completo</td>\n",
       "      <td>Solteiro(A)</td>\n",
       "      <td>Parda</td>\n",
       "      <td>Motorista Particular</td>\n",
       "    </tr>\n",
       "    <tr>\n",
       "      <th>2</th>\n",
       "      <td>Campo Formoso</td>\n",
       "      <td>Vereador</td>\n",
       "      <td>40777</td>\n",
       "      <td>Matheus Fernandes Ribeiro Camacam</td>\n",
       "      <td>Matheus Camacam</td>\n",
       "      <td>PSB</td>\n",
       "      <td>Campo Formoso</td>\n",
       "      <td>21</td>\n",
       "      <td>Masculino</td>\n",
       "      <td>Superior Incompleto</td>\n",
       "      <td>Solteiro(A)</td>\n",
       "      <td>Branca</td>\n",
       "      <td>Estudante, Bolsista, Estagiário E Assemelhados</td>\n",
       "    </tr>\n",
       "    <tr>\n",
       "      <th>3</th>\n",
       "      <td>Gongogi</td>\n",
       "      <td>Prefeito</td>\n",
       "      <td>14</td>\n",
       "      <td>Milton Mendes Da Silva</td>\n",
       "      <td>Tucunaré</td>\n",
       "      <td>PTB</td>\n",
       "      <td>Itacaré</td>\n",
       "      <td>58</td>\n",
       "      <td>Masculino</td>\n",
       "      <td>Ensino Fundamental Incompleto</td>\n",
       "      <td>Solteiro(A)</td>\n",
       "      <td>Parda</td>\n",
       "      <td>Empresário</td>\n",
       "    </tr>\n",
       "    <tr>\n",
       "      <th>4</th>\n",
       "      <td>Coração De Maria</td>\n",
       "      <td>Vereador</td>\n",
       "      <td>11555</td>\n",
       "      <td>Genilson Dos Santos Mendes</td>\n",
       "      <td>Dangola</td>\n",
       "      <td>PP</td>\n",
       "      <td>Conceição Do Jacuípe</td>\n",
       "      <td>44</td>\n",
       "      <td>Masculino</td>\n",
       "      <td>Lê E Escreve</td>\n",
       "      <td>Casado(A)</td>\n",
       "      <td>Parda</td>\n",
       "      <td>Motorista Particular</td>\n",
       "    </tr>\n",
       "  </tbody>\n",
       "</table>\n",
       "</div>"
      ],
      "text/plain": [
       "             cidade     cargo  numero                               nome  \\\n",
       "0            Camacã  Vereador   10123         Leonardo Moreira Malaquias   \n",
       "1     Santa Brígida  Vereador   12555            Jerferson Oliveira Neto   \n",
       "2     Campo Formoso  Vereador   40777  Matheus Fernandes Ribeiro Camacam   \n",
       "3           Gongogi  Prefeito      14             Milton Mendes Da Silva   \n",
       "4  Coração De Maria  Vereador   11555         Genilson Dos Santos Mendes   \n",
       "\n",
       "           nome_urna       partido     cidade_nascimento  idade_na_posse  \\\n",
       "0       Lió Da Civil  REPUBLICANOS                Camacã              50   \n",
       "1  Xaverinho Do Pipa           PDT         Santa Brígida              32   \n",
       "2    Matheus Camacam           PSB         Campo Formoso              21   \n",
       "3           Tucunaré           PTB               Itacaré              58   \n",
       "4            Dangola            PP  Conceição Do Jacuípe              44   \n",
       "\n",
       "        sexo                 grau_instrucao estado_civil cor_raca  \\\n",
       "0  Masculino          Ensino Médio Completo  Solteiro(A)   Branca   \n",
       "1  Masculino          Ensino Médio Completo  Solteiro(A)    Parda   \n",
       "2  Masculino            Superior Incompleto  Solteiro(A)   Branca   \n",
       "3  Masculino  Ensino Fundamental Incompleto  Solteiro(A)    Parda   \n",
       "4  Masculino                   Lê E Escreve    Casado(A)    Parda   \n",
       "\n",
       "                                         ocupacao  \n",
       "0                                  Policial Civil  \n",
       "1                            Motorista Particular  \n",
       "2  Estudante, Bolsista, Estagiário E Assemelhados  \n",
       "3                                      Empresário  \n",
       "4                            Motorista Particular  "
      ]
     },
     "execution_count": 20,
     "metadata": {},
     "output_type": "execute_result"
    }
   ],
   "source": [
    "dados.head()"
   ]
  },
  {
   "cell_type": "code",
   "execution_count": 65,
   "metadata": {},
   "outputs": [
    {
     "data": {
      "text/plain": [
       "(41112, 13)"
      ]
     },
     "execution_count": 65,
     "metadata": {},
     "output_type": "execute_result"
    }
   ],
   "source": [
    "dados.shape"
   ]
  },
  {
   "cell_type": "markdown",
   "metadata": {},
   "source": [
    "#### Vamos padronizar as colunas de strings para que os valores fiquem minúsculos"
   ]
  },
  {
   "cell_type": "code",
   "execution_count": 6,
   "metadata": {},
   "outputs": [],
   "source": [
    "colunas_strings = ['cidade', 'cargo', 'nome', 'nome_urna', 'cidade_nascimento', \n",
    "                   'sexo', 'grau_instrucao', 'estado_civil', 'cor_raca', 'ocupacao']"
   ]
  },
  {
   "cell_type": "code",
   "execution_count": 7,
   "metadata": {},
   "outputs": [],
   "source": [
    "# aplicar metodo title() para colunas com strings\n",
    "dados[colunas_strings] = dados[colunas_strings].apply(lambda x: x.str.title())"
   ]
  },
  {
   "cell_type": "markdown",
   "metadata": {},
   "source": [
    "#### Separando o dataframe para a cidade de Ibicarai"
   ]
  },
  {
   "cell_type": "code",
   "execution_count": 11,
   "metadata": {},
   "outputs": [],
   "source": [
    "candidatos_ibicarai = dados[dados['cidade'] == 'Ibicaraí']"
   ]
  },
  {
   "cell_type": "markdown",
   "metadata": {},
   "source": [
    "#### Checando por valores nulos"
   ]
  },
  {
   "cell_type": "code",
   "execution_count": 67,
   "metadata": {},
   "outputs": [
    {
     "data": {
      "text/plain": [
       "cidade               0\n",
       "cargo                0\n",
       "numero               0\n",
       "nome                 0\n",
       "nome_urna            0\n",
       "partido              0\n",
       "cidade_nascimento    0\n",
       "idade_na_posse       0\n",
       "sexo                 0\n",
       "grau_instrucao       0\n",
       "estado_civil         0\n",
       "cor_raca             0\n",
       "ocupacao             0\n",
       "dtype: int64"
      ]
     },
     "execution_count": 67,
     "metadata": {},
     "output_type": "execute_result"
    }
   ],
   "source": [
    "dados.isna().sum()"
   ]
  },
  {
   "cell_type": "markdown",
   "metadata": {},
   "source": [
    "#### Avaliando tipos de dados"
   ]
  },
  {
   "cell_type": "code",
   "execution_count": 66,
   "metadata": {},
   "outputs": [
    {
     "name": "stdout",
     "output_type": "stream",
     "text": [
      "<class 'pandas.core.frame.DataFrame'>\n",
      "Int64Index: 41112 entries, 0 to 41170\n",
      "Data columns (total 13 columns):\n",
      " #   Column             Non-Null Count  Dtype \n",
      "---  ------             --------------  ----- \n",
      " 0   cidade             41112 non-null  object\n",
      " 1   cargo              41112 non-null  object\n",
      " 2   numero             41112 non-null  int64 \n",
      " 3   nome               41112 non-null  object\n",
      " 4   nome_urna          41112 non-null  object\n",
      " 5   partido            41112 non-null  object\n",
      " 6   cidade_nascimento  41112 non-null  object\n",
      " 7   idade_na_posse     41112 non-null  int64 \n",
      " 8   sexo               41112 non-null  object\n",
      " 9   grau_instrucao     41112 non-null  object\n",
      " 10  estado_civil       41112 non-null  object\n",
      " 11  cor_raca           41112 non-null  object\n",
      " 12  ocupacao           41112 non-null  object\n",
      "dtypes: int64(2), object(11)\n",
      "memory usage: 4.4+ MB\n"
     ]
    }
   ],
   "source": [
    "dados.info()"
   ]
  },
  {
   "cell_type": "markdown",
   "metadata": {},
   "source": [
    "#### Checando valores duplicados"
   ]
  },
  {
   "cell_type": "code",
   "execution_count": 63,
   "metadata": {
    "scrolled": false
   },
   "outputs": [
    {
     "data": {
      "text/html": [
       "<div>\n",
       "<style scoped>\n",
       "    .dataframe tbody tr th:only-of-type {\n",
       "        vertical-align: middle;\n",
       "    }\n",
       "\n",
       "    .dataframe tbody tr th {\n",
       "        vertical-align: top;\n",
       "    }\n",
       "\n",
       "    .dataframe thead th {\n",
       "        text-align: right;\n",
       "    }\n",
       "</style>\n",
       "<table border=\"1\" class=\"dataframe\">\n",
       "  <thead>\n",
       "    <tr style=\"text-align: right;\">\n",
       "      <th></th>\n",
       "      <th>cidade</th>\n",
       "      <th>cargo</th>\n",
       "      <th>numero</th>\n",
       "      <th>nome</th>\n",
       "      <th>nome_urna</th>\n",
       "      <th>partido</th>\n",
       "      <th>cidade_nascimento</th>\n",
       "      <th>idade_na_posse</th>\n",
       "      <th>sexo</th>\n",
       "      <th>grau_instrucao</th>\n",
       "      <th>estado_civil</th>\n",
       "      <th>cor_raca</th>\n",
       "      <th>ocupacao</th>\n",
       "    </tr>\n",
       "  </thead>\n",
       "  <tbody>\n",
       "  </tbody>\n",
       "</table>\n",
       "</div>"
      ],
      "text/plain": [
       "Empty DataFrame\n",
       "Columns: [cidade, cargo, numero, nome, nome_urna, partido, cidade_nascimento, idade_na_posse, sexo, grau_instrucao, estado_civil, cor_raca, ocupacao]\n",
       "Index: []"
      ]
     },
     "execution_count": 63,
     "metadata": {},
     "output_type": "execute_result"
    }
   ],
   "source": [
    "dados[dados.duplicated()]"
   ]
  },
  {
   "cell_type": "code",
   "execution_count": 62,
   "metadata": {},
   "outputs": [],
   "source": [
    "dados.drop_duplicates(inplace=True)"
   ]
  },
  {
   "cell_type": "markdown",
   "metadata": {},
   "source": [
    "Dados prontos para análise..;)"
   ]
  },
  {
   "cell_type": "markdown",
   "metadata": {},
   "source": [
    "#### Numero de municipios no estado da Bahia"
   ]
  },
  {
   "cell_type": "code",
   "execution_count": 69,
   "metadata": {},
   "outputs": [
    {
     "data": {
      "text/plain": [
       "417"
      ]
     },
     "execution_count": 69,
     "metadata": {},
     "output_type": "execute_result"
    }
   ],
   "source": [
    "dados['cidade'].nunique()"
   ]
  },
  {
   "cell_type": "markdown",
   "metadata": {},
   "source": [
    "#### Sobrenomes dos Candidatos"
   ]
  },
  {
   "cell_type": "code",
   "execution_count": 97,
   "metadata": {},
   "outputs": [],
   "source": [
    "lista_nome = []\n",
    "for nome in dados['nome'].values:\n",
    "    x = nome.split()[1:]\n",
    "    lista_nome.extend(x)"
   ]
  },
  {
   "cell_type": "code",
   "execution_count": 116,
   "metadata": {},
   "outputs": [
    {
     "data": {
      "text/plain": [
       "De            11272\n",
       "Santos        10959\n",
       "Silva          7648\n",
       "Dos            6942\n",
       "Da             6428\n",
       "Oliveira       3807\n",
       "Souza          3780\n",
       "Jesus          2652\n",
       "Pereira        2018\n",
       "Alves          1613\n",
       "Santana        1463\n",
       "Ferreira       1442\n",
       "Lima           1418\n",
       "Almeida        1277\n",
       "Nascimento     1127\n",
       "dtype: int64"
      ]
     },
     "execution_count": 116,
     "metadata": {},
     "output_type": "execute_result"
    }
   ],
   "source": [
    "s_sobrenomes = pd.Series(collections.Counter(lista_nome))\n",
    "s_sobrenomes.nlargest(15)"
   ]
  },
  {
   "cell_type": "code",
   "execution_count": 117,
   "metadata": {},
   "outputs": [
    {
     "data": {
      "text/plain": [
       "Santos        10959\n",
       "Silva          7648\n",
       "Oliveira       3807\n",
       "Souza          3780\n",
       "Jesus          2652\n",
       "Pereira        2018\n",
       "Alves          1613\n",
       "Santana        1463\n",
       "Ferreira       1442\n",
       "Lima           1418\n",
       "Almeida        1277\n",
       "Nascimento     1127\n",
       "Costa          1126\n",
       "Rodrigues       951\n",
       "Ribeiro         942\n",
       "Gomes           857\n",
       "Carvalho        841\n",
       "Barbosa         787\n",
       "Conceição       760\n",
       "Rocha           748\n",
       "dtype: int64"
      ]
     },
     "execution_count": 117,
     "metadata": {},
     "output_type": "execute_result"
    }
   ],
   "source": [
    "s_sobrenomes.drop(labels=['De', 'Dos', 'Da', 'Do'], inplace=True)\n",
    "s_sobrenomes.nlargest(20)"
   ]
  },
  {
   "cell_type": "markdown",
   "metadata": {},
   "source": [
    "#### Curiosidade sobre nome na urna"
   ]
  },
  {
   "cell_type": "code",
   "execution_count": 119,
   "metadata": {},
   "outputs": [],
   "source": [
    "lista_nome_urna = []\n",
    "for i in dados['nome_urna'].values:\n",
    "    x = i.split()\n",
    "    lista_nome_urna.extend(x)"
   ]
  },
  {
   "cell_type": "code",
   "execution_count": 267,
   "metadata": {},
   "outputs": [],
   "source": [
    "lista_nome_urna = [x.lower() for x in lista_nome_urna]"
   ]
  },
  {
   "cell_type": "code",
   "execution_count": 296,
   "metadata": {},
   "outputs": [],
   "source": [
    "s_nomeurna = pd.Series(collections.Counter(lista_nome_urna))"
   ]
  },
  {
   "cell_type": "code",
   "execution_count": 297,
   "metadata": {},
   "outputs": [
    {
     "data": {
      "text/plain": [
       "de            4357\n",
       "do            4162\n",
       "da            3604\n",
       "zé             580\n",
       "professor      562\n",
       "professora     490\n",
       "saúde          436\n",
       "santos         422\n",
       "maria          388\n",
       "joão           374\n",
       "silva          343\n",
       "paulo          342\n",
       "dr             335\n",
       "pastor         313\n",
       "oliveira       300\n",
       "dtype: int64"
      ]
     },
     "execution_count": 297,
     "metadata": {},
     "output_type": "execute_result"
    }
   ],
   "source": [
    "s_nomeurna.nlargest(15)"
   ]
  },
  {
   "cell_type": "code",
   "execution_count": 298,
   "metadata": {},
   "outputs": [],
   "source": [
    "s_nomeurna['zé'] = s_nomeurna['zé'] + s_nomeurna['ze']\n",
    "s_nomeurna['professor'] = s_nomeurna['professor'] + s_nomeurna['prof']\n",
    "s_nomeurna['saúde'] = s_nomeurna['saúde'] + s_nomeurna['saude']\n",
    "s_nomeurna['júnior'] = s_nomeurna['júnior'] + s_nomeurna['junior']\n",
    "s_nomeurna['táxi'] = s_nomeurna['táxi'] + s_nomeurna['taxi']\n",
    "s_nomeurna.drop(labels=['de', 'do', 'da', 'oliveira', 'silva', 'joão', 'maria', 'santos', 'lima', 'souza', \n",
    "                       'santana', 'dos', 'ze', 'saude', 'paulo', 'carlos', 'jorge', 'marcos', 'ana',\n",
    "                       'pedro', 'luiz', 'antonio', 'roberto', 'marcelo', 'costa', 'rocha', 'ribeiro', 'alves',\n",
    "                       'val', 'brito', 'gil', 'almeida', 'luciano', 'ferreira', 'alex', 'reis', 'barbosa',\n",
    "                       'manoel', 'beto', 'das', 'rita', 'carvalho', 'lucas', 'gomes', 'ricardo', 'rodrigues',\n",
    "                       'raimundo', 'adriana', 'pereira', 'dias', 'fernando', 'andrade', 'lopes', 'léo',\n",
    "                       'borges', 'leo', 'marcio', 'josé', 'daniel', 'robson', 'rosa', 'rose', 'adriano', 'gilson',\n",
    "                       'pró', 'prof', 'cardoso', 'edson', 'fabio', 'barreto', 'eduardo', 'joao', 'rodrigo', 'simone',\n",
    "                       'miranda', 'claudio', 'junior', 'nunes', 'paula', 'ramos', 'bruno', 'sandra', 'sergio',\n",
    "                       'cristina', 'nascimento', 'batista', 'matos', 'vieira', 'sandro', 'martins', 'gilmar', \n",
    "                       'ronaldo', 'taxi', 'roque'], inplace=True)"
   ]
  },
  {
   "cell_type": "code",
   "execution_count": 320,
   "metadata": {},
   "outputs": [
    {
     "data": {
      "text/plain": [
       "zé            799\n",
       "professor     671\n",
       "saúde         609\n",
       "professora    490\n",
       "dr            335\n",
       "júnior        334\n",
       "pastor        313\n",
       "irmão         252\n",
       "neto          191\n",
       "povo          169\n",
       "sindicato     160\n",
       "nego          128\n",
       "táxi          123\n",
       "carlinhos     116\n",
       "galego        111\n",
       "tia           105\n",
       "filho         103\n",
       "chico         102\n",
       "enfermeira    100\n",
       "irmã           99\n",
       "leite          97\n",
       "sargento       90\n",
       "dona           89\n",
       "cida           82\n",
       "vera           82\n",
       "dtype: int64"
      ]
     },
     "execution_count": 320,
     "metadata": {},
     "output_type": "execute_result"
    }
   ],
   "source": [
    "s_cloud = s_nomeurna.nlargest(25)\n",
    "s_cloud"
   ]
  },
  {
   "cell_type": "code",
   "execution_count": 317,
   "metadata": {},
   "outputs": [],
   "source": [
    "for i in s_cloud.keys():\n",
    "    i = str(i)\n",
    "    sep = i.split()\n",
    "    for x in range(len(sep)):\n",
    "        sep[x] = sep[x].lower()\n",
    "    cloud += \" \".join(sep)+\" \""
   ]
  },
  {
   "cell_type": "code",
   "execution_count": 318,
   "metadata": {},
   "outputs": [],
   "source": [
    "final_wordcloud = WordCloud(width = 800, height = 800, \n",
    "                background_color ='black', \n",
    "                stopwords = [], \n",
    "                min_font_size = 10).generate(cloud)"
   ]
  },
  {
   "cell_type": "code",
   "execution_count": 319,
   "metadata": {},
   "outputs": [
    {
     "data": {
      "image/png": "[encoded data removed]",
      "text/plain": [
       "<Figure size 720x720 with 1 Axes>"
      ]
     },
     "metadata": {
      "needs_background": "light"
     },
     "output_type": "display_data"
    }
   ],
   "source": [
    "plt.figure(figsize = (10, 10), facecolor = None) \n",
    "plt.imshow(final_wordcloud) \n",
    "plt.axis(\"off\") \n",
    "plt.tight_layout(pad = 0) \n",
    "  \n",
    "plt.show()"
   ]
  },
  {
   "cell_type": "code",
   "execution_count": 230,
   "metadata": {},
   "outputs": [
    {
     "data": {
      "text/html": [
       "<div>\n",
       "<style scoped>\n",
       "    .dataframe tbody tr th:only-of-type {\n",
       "        vertical-align: middle;\n",
       "    }\n",
       "\n",
       "    .dataframe tbody tr th {\n",
       "        vertical-align: top;\n",
       "    }\n",
       "\n",
       "    .dataframe thead th {\n",
       "        text-align: right;\n",
       "    }\n",
       "</style>\n",
       "<table border=\"1\" class=\"dataframe\">\n",
       "  <thead>\n",
       "    <tr style=\"text-align: right;\">\n",
       "      <th></th>\n",
       "      <th>cidade</th>\n",
       "      <th>cargo</th>\n",
       "      <th>numero</th>\n",
       "      <th>nome</th>\n",
       "      <th>nome_urna</th>\n",
       "      <th>partido</th>\n",
       "      <th>cidade_nascimento</th>\n",
       "      <th>idade_na_posse</th>\n",
       "      <th>sexo</th>\n",
       "      <th>grau_instrucao</th>\n",
       "      <th>estado_civil</th>\n",
       "      <th>cor_raca</th>\n",
       "      <th>ocupacao</th>\n",
       "    </tr>\n",
       "  </thead>\n",
       "  <tbody>\n",
       "    <tr>\n",
       "      <th>2174</th>\n",
       "      <td>Amélia Rodrigues</td>\n",
       "      <td>Vereador</td>\n",
       "      <td>10321</td>\n",
       "      <td>Maria Alair Alves Dos Santos Lima</td>\n",
       "      <td>Pró Lai</td>\n",
       "      <td>REPUBLICANOS</td>\n",
       "      <td>Amélia Rodrigues</td>\n",
       "      <td>54</td>\n",
       "      <td>Feminino</td>\n",
       "      <td>Superior Completo</td>\n",
       "      <td>Casado(A)</td>\n",
       "      <td>Parda</td>\n",
       "      <td>Servidor Público Municipal</td>\n",
       "    </tr>\n",
       "  </tbody>\n",
       "</table>\n",
       "</div>"
      ],
      "text/plain": [
       "                cidade     cargo  numero                               nome  \\\n",
       "2174  Amélia Rodrigues  Vereador   10321  Maria Alair Alves Dos Santos Lima   \n",
       "\n",
       "     nome_urna       partido cidade_nascimento  idade_na_posse      sexo  \\\n",
       "2174   Pró Lai  REPUBLICANOS  Amélia Rodrigues              54  Feminino   \n",
       "\n",
       "         grau_instrucao estado_civil cor_raca                    ocupacao  \n",
       "2174  Superior Completo    Casado(A)    Parda  Servidor Público Municipal  "
      ]
     },
     "execution_count": 230,
     "metadata": {},
     "output_type": "execute_result"
    }
   ],
   "source": [
    "dados[dados['nome_urna']=='Pró Lai']"
   ]
  },
  {
   "cell_type": "code",
   "execution_count": 6,
   "metadata": {},
   "outputs": [
    {
     "data": {
      "text/plain": [
       "SANTOS        35\n",
       "SILVA         27\n",
       "OLIVEIRA      20\n",
       "ALVES         13\n",
       "SOUZA         10\n",
       "COSTA          9\n",
       "SOARES         7\n",
       "NETO           7\n",
       "NASCIMENTO     7\n",
       "SANTANA        6\n",
       "FERREIRA       6\n",
       "JESUS          6\n",
       "PEREIRA        5\n",
       "ASSIS          5\n",
       "DIAS           5\n",
       "dtype: int64"
      ]
     },
     "execution_count": 6,
     "metadata": {},
     "output_type": "execute_result"
    }
   ],
   "source": [
    "s.nlargest(15)"
   ]
  },
  {
   "cell_type": "code",
   "execution_count": 5,
   "metadata": {},
   "outputs": [],
   "source": [
    "dict_nome = dict(collections.Counter(lista_nome))\n",
    "\n",
    "s = pd.Series(dict_nome, index=dict_nome.keys())\n",
    "del s['DE']\n",
    "del s['DOS']\n",
    "del s['DA']\n",
    "del s['MARIA']"
   ]
  },
  {
   "cell_type": "code",
   "execution_count": null,
   "metadata": {},
   "outputs": [],
   "source": []
  },
  {
   "cell_type": "code",
   "execution_count": null,
   "metadata": {},
   "outputs": [],
   "source": []
  },
  {
   "cell_type": "code",
   "execution_count": null,
   "metadata": {},
   "outputs": [],
   "source": []
  },
  {
   "cell_type": "code",
   "execution_count": null,
   "metadata": {},
   "outputs": [],
   "source": []
  },
  {
   "cell_type": "code",
   "execution_count": null,
   "metadata": {},
   "outputs": [],
   "source": []
  },
  {
   "cell_type": "code",
   "execution_count": 356,
   "metadata": {},
   "outputs": [
    {
     "data": {
      "text/plain": [
       "cor_raca        grau_instrucao               \n",
       "Amarela         Ensino Médio Completo            40.38\n",
       "                Superior Completo                26.92\n",
       "                Ensino Fundamental Incompleto    11.54\n",
       "                Ensino Fundamental Completo       9.62\n",
       "                Ensino Médio Incompleto           5.13\n",
       "                Superior Incompleto               4.49\n",
       "                Lê E Escreve                      1.92\n",
       "Branca          Ensino Médio Completo            40.90\n",
       "                Superior Completo                29.92\n",
       "                Ensino Fundamental Incompleto    10.07\n",
       "                Ensino Fundamental Completo       8.68\n",
       "                Ensino Médio Incompleto           4.08\n",
       "                Superior Incompleto               3.98\n",
       "                Lê E Escreve                      2.37\n",
       "Indígena        Ensino Médio Completo            35.82\n",
       "                Ensino Fundamental Incompleto    18.66\n",
       "                Ensino Fundamental Completo      13.43\n",
       "                Superior Completo                12.69\n",
       "                Ensino Médio Incompleto           8.21\n",
       "                Superior Incompleto               5.97\n",
       "                Lê E Escreve                      5.22\n",
       "Parda           Ensino Médio Completo            44.23\n",
       "                Superior Completo                18.56\n",
       "                Ensino Fundamental Incompleto    14.34\n",
       "                Ensino Fundamental Completo      10.49\n",
       "                Ensino Médio Incompleto           5.68\n",
       "                Superior Incompleto               3.75\n",
       "                Lê E Escreve                      2.95\n",
       "Preta           Ensino Médio Completo            43.59\n",
       "                Superior Completo                17.15\n",
       "                Ensino Fundamental Incompleto    15.68\n",
       "                Ensino Fundamental Completo      10.19\n",
       "                Ensino Médio Incompleto           6.31\n",
       "                Superior Incompleto               4.31\n",
       "                Lê E Escreve                      2.75\n",
       "Sem Informação  Ensino Médio Completo            47.05\n",
       "                Superior Completo                17.47\n",
       "                Ensino Fundamental Incompleto    12.43\n",
       "                Ensino Fundamental Completo      10.18\n",
       "                Ensino Médio Incompleto           6.32\n",
       "                Lê E Escreve                      3.86\n",
       "                Superior Incompleto               2.57\n",
       "                Analfabeto                        0.11\n",
       "Name: grau_instrucao, dtype: float64"
      ]
     },
     "execution_count": 356,
     "metadata": {},
     "output_type": "execute_result"
    }
   ],
   "source": [
    "round(dados.groupby('cor_raca')['grau_instrucao'].value_counts(normalize=True)*100, 2)"
   ]
  },
  {
   "cell_type": "markdown",
   "metadata": {},
   "source": [
    "#### Analise Univariavel"
   ]
  },
  {
   "cell_type": "markdown",
   "metadata": {},
   "source": [
    "Idade na posse:\n",
    "    - vemos que a distribuicao maior fica em torno dos 50 anos de idade"
   ]
  },
  {
   "cell_type": "code",
   "execution_count": 106,
   "metadata": {
    "scrolled": false
   },
   "outputs": [
    {
     "data": {
      "image/png": "[encoded data removed]",
      "text/plain": [
       "<Figure size 720x576 with 1 Axes>"
      ]
     },
     "metadata": {
      "needs_background": "light"
     },
     "output_type": "display_data"
    }
   ],
   "source": [
    "plt.figure(figsize=(10,8))\n",
    "\n",
    "sns.histplot(cand_ibicarai['idade_na_posse'], kde=True)\n",
    "plt.axvline(x=cand_ibicarai['idade_na_posse'].mean(), c='red', ls='--')\n",
    "plt.title('Distribuição das idades dos candidatos', fontsize=14);"
   ]
  },
  {
   "cell_type": "code",
   "execution_count": null,
   "metadata": {},
   "outputs": [],
   "source": []
  },
  {
   "cell_type": "markdown",
   "metadata": {},
   "source": [
    "#### Analise Bivariavel"
   ]
  },
  {
   "cell_type": "markdown",
   "metadata": {},
   "source": [
    "Relações de Gênero"
   ]
  },
  {
   "cell_type": "code",
   "execution_count": 153,
   "metadata": {},
   "outputs": [
    {
     "data": {
      "image/png": "[encoded data removed]",
      "text/plain": [
       "<Figure size 720x576 with 1 Axes>"
      ]
     },
     "metadata": {
      "needs_background": "light"
     },
     "output_type": "display_data"
    }
   ],
   "source": [
    "plt.figure(figsize=(10,8))\n",
    "sns.boxplot(x=cand_ibicarai['sexo'], y=cand_ibicarai['idade_na_posse']);"
   ]
  },
  {
   "cell_type": "code",
   "execution_count": null,
   "metadata": {},
   "outputs": [],
   "source": []
  },
  {
   "cell_type": "markdown",
   "metadata": {},
   "source": [
    "#### Diferenças de Genero"
   ]
  },
  {
   "cell_type": "code",
   "execution_count": 7,
   "metadata": {},
   "outputs": [
    {
     "data": {
      "text/plain": [
       "sexo       grau_instrucao               \n",
       "FEMININO   ENSINO MÉDIO COMPLETO            28\n",
       "           SUPERIOR COMPLETO                18\n",
       "           SUPERIOR INCOMPLETO               3\n",
       "           ENSINO FUNDAMENTAL INCOMPLETO     2\n",
       "           ENSINO FUNDAMENTAL COMPLETO       1\n",
       "           ENSINO MÉDIO INCOMPLETO           1\n",
       "MASCULINO  ENSINO MÉDIO COMPLETO            48\n",
       "           SUPERIOR COMPLETO                19\n",
       "           ENSINO FUNDAMENTAL COMPLETO      15\n",
       "           ENSINO FUNDAMENTAL INCOMPLETO    10\n",
       "           ENSINO MÉDIO INCOMPLETO           5\n",
       "           SUPERIOR INCOMPLETO               4\n",
       "Name: grau_instrucao, dtype: int64"
      ]
     },
     "execution_count": 7,
     "metadata": {},
     "output_type": "execute_result"
    }
   ],
   "source": [
    "# por grau de instrucao\n",
    "# 86% das mulheres tem ensino medio completo ou superior completo. Homens ficam em 66%\n",
    "# 34% tem ensino superior completo. Enquanto os homens sao 18%\n",
    "cand_ibi.groupby('sexo')['grau_instrucao'].value_counts()"
   ]
  },
  {
   "cell_type": "code",
   "execution_count": 9,
   "metadata": {},
   "outputs": [
    {
     "data": {
      "text/plain": [
       "sexo       ocupacao                                                              \n",
       "FEMININO   OUTROS                                                                    35.85\n",
       "           COMERCIANTE                                                                9.43\n",
       "           SERVIDOR PÚBLICO MUNICIPAL                                                 9.43\n",
       "           TÉCNICO DE ENFERMAGEM E ASSEMELHADOS (EXCETO ENFERMEIRO)                   5.66\n",
       "           DONA DE CASA                                                               3.77\n",
       "           ESTUDANTE, BOLSISTA, ESTAGIÁRIO E ASSEMELHADOS                             3.77\n",
       "           PROFESSOR DE ENSINO FUNDAMENTAL                                            3.77\n",
       "           RECEPCIONISTA                                                              3.77\n",
       "           VEREADOR                                                                   3.77\n",
       "           AGENTE ADMINISTRATIVO                                                      1.89\n",
       "           COMERCIÁRIO                                                                1.89\n",
       "           EMPRESÁRIO                                                                 1.89\n",
       "           ENFERMEIRO                                                                 1.89\n",
       "           ENGENHEIRO                                                                 1.89\n",
       "           FISIOTERAPEUTA E TERAPEUTA OCUPACIONAL                                     1.89\n",
       "           MÉDICO                                                                     1.89\n",
       "           PROFESSOR DE ENSINO MÉDIO                                                  1.89\n",
       "           SECRETÁRIO E DATILÓGRAFO                                                   1.89\n",
       "           SERVIDOR PÚBLICO ESTADUAL                                                  1.89\n",
       "           VENDEDOR DE COMÉRCIO VAREJISTA E ATACADISTA                                1.89\n",
       "MASCULINO  OUTROS                                                                    28.71\n",
       "           COMERCIANTE                                                               13.86\n",
       "           EMPRESÁRIO                                                                 6.93\n",
       "           SERVIDOR PÚBLICO MUNICIPAL                                                 6.93\n",
       "           VEREADOR                                                                   4.95\n",
       "           PROFESSOR DE ENSINO FUNDAMENTAL                                            2.97\n",
       "           SERVIDOR PÚBLICO ESTADUAL                                                  2.97\n",
       "           ADVOGADO                                                                   1.98\n",
       "           AGRICULTOR                                                                 1.98\n",
       "           APOSENTADO (EXCETO SERVIDOR PÚBLICO)                                       1.98\n",
       "           COMERCIÁRIO                                                                1.98\n",
       "           ESTUDANTE, BOLSISTA, ESTAGIÁRIO E ASSEMELHADOS                             1.98\n",
       "           LOCUTOR E COMENTARISTA DE RÁDIO E TELEVISÃO E RADIALISTA                   1.98\n",
       "           MOTORISTA DE VEÍCULOS DE TRANSPORTE DE CARGA                               1.98\n",
       "           PORTEIRO DE EDIFÍCIO, ASCENSORISTA, GARAGISTA E ZELADOR                    1.98\n",
       "           REPRESENTANTE COMERCIAL                                                    1.98\n",
       "           ASSISTENTE SOCIAL                                                          0.99\n",
       "           CABELEIREIRO E BARBEIRO                                                    0.99\n",
       "           MECÂNICO DE MANUTENÇÃO                                                     0.99\n",
       "           MOTOBOY                                                                    0.99\n",
       "           MOTORISTA DE VEÍCULOS DE TRANSPORTE COLETIVO DE PASSAGEIROS                0.99\n",
       "           MOTORISTA PARTICULAR                                                       0.99\n",
       "           PADEIRO, CONFEITEIRO E ASSEMELHADOS                                        0.99\n",
       "           POLICIAL MILITAR                                                           0.99\n",
       "           PREFEITO                                                                   0.99\n",
       "           PROFESSOR DE ENSINO MÉDIO                                                  0.99\n",
       "           TAXISTA                                                                    0.99\n",
       "           TRABALHADOR DE CONSTRUÇÃO CIVIL                                            0.99\n",
       "           TÉCNICO CONTABILIDADE, ESTATÍSTICA, ECONOMIA DOMÉSTICA E ADMINISTRAÇÃO     0.99\n",
       "           TÉCNICO EM INFORMÁTICA                                                     0.99\n",
       "           VENDEDOR PRACISTA, REPRESENTANTE, CAIXEIRO-VIAJANTE E ASSEMELHADOS         0.99\n",
       "Name: ocupacao, dtype: float64"
      ]
     },
     "execution_count": 9,
     "metadata": {},
     "output_type": "execute_result"
    }
   ],
   "source": [
    "round(cand_ibi.groupby('sexo')['ocupacao'].value_counts(normalize=True)*100,2)"
   ]
  },
  {
   "cell_type": "code",
   "execution_count": 10,
   "metadata": {},
   "outputs": [
    {
     "data": {
      "text/plain": [
       "sexo       idade_na_posse\n",
       "MASCULINO  50                8\n",
       "           42                5\n",
       "           49                5\n",
       "Name: idade_na_posse, dtype: int64"
      ]
     },
     "execution_count": 10,
     "metadata": {},
     "output_type": "execute_result"
    }
   ],
   "source": [
    "cand_ibi.groupby('sexo')['idade_na_posse'].value_counts().nlargest(3)"
   ]
  },
  {
   "cell_type": "code",
   "execution_count": 33,
   "metadata": {},
   "outputs": [
    {
     "data": {
      "text/plain": [
       "MASCULINO    101\n",
       "FEMININO      53\n",
       "Name: sexo, dtype: int64"
      ]
     },
     "execution_count": 33,
     "metadata": {},
     "output_type": "execute_result"
    }
   ],
   "source": [
    "cand_ibi['sexo'].value_counts()"
   ]
  },
  {
   "cell_type": "markdown",
   "metadata": {},
   "source": [
    "#### Ocupação"
   ]
  },
  {
   "cell_type": "code",
   "execution_count": 25,
   "metadata": {},
   "outputs": [
    {
     "data": {
      "text/html": [
       "<div>\n",
       "<style scoped>\n",
       "    .dataframe tbody tr th:only-of-type {\n",
       "        vertical-align: middle;\n",
       "    }\n",
       "\n",
       "    .dataframe tbody tr th {\n",
       "        vertical-align: top;\n",
       "    }\n",
       "\n",
       "    .dataframe thead th {\n",
       "        text-align: right;\n",
       "    }\n",
       "</style>\n",
       "<table border=\"1\" class=\"dataframe\">\n",
       "  <thead>\n",
       "    <tr style=\"text-align: right;\">\n",
       "      <th></th>\n",
       "      <th>nome</th>\n",
       "      <th>nome_urna</th>\n",
       "      <th>cargo</th>\n",
       "      <th>partido</th>\n",
       "      <th>cidade_nascimento</th>\n",
       "      <th>idade_na_posse</th>\n",
       "      <th>sexo</th>\n",
       "      <th>grau_instrucao</th>\n",
       "      <th>estado_civil</th>\n",
       "      <th>cor_raca</th>\n",
       "      <th>ocupacao</th>\n",
       "    </tr>\n",
       "  </thead>\n",
       "  <tbody>\n",
       "    <tr>\n",
       "      <th>7229</th>\n",
       "      <td>MONALISA GONCALVES TAVARES</td>\n",
       "      <td>DRA MONALISA</td>\n",
       "      <td>PREFEITO</td>\n",
       "      <td>DEM</td>\n",
       "      <td>ITABUNA</td>\n",
       "      <td>53</td>\n",
       "      <td>FEMININO</td>\n",
       "      <td>SUPERIOR COMPLETO</td>\n",
       "      <td>SOLTEIRO(A)</td>\n",
       "      <td>PARDA</td>\n",
       "      <td>MÉDICO</td>\n",
       "    </tr>\n",
       "    <tr>\n",
       "      <th>10284</th>\n",
       "      <td>FABIANE LYRA DE SOUZA</td>\n",
       "      <td>FABIANE</td>\n",
       "      <td>VICE-PREFEITO</td>\n",
       "      <td>PT</td>\n",
       "      <td>ITABUNA</td>\n",
       "      <td>52</td>\n",
       "      <td>FEMININO</td>\n",
       "      <td>SUPERIOR COMPLETO</td>\n",
       "      <td>SOLTEIRO(A)</td>\n",
       "      <td>BRANCA</td>\n",
       "      <td>EMPRESÁRIO</td>\n",
       "    </tr>\n",
       "    <tr>\n",
       "      <th>13981</th>\n",
       "      <td>LEILTON SILVA GUEDES</td>\n",
       "      <td>DINHO GUEDES</td>\n",
       "      <td>VICE-PREFEITO</td>\n",
       "      <td>REPUBLICANOS</td>\n",
       "      <td>IBICARAÍ</td>\n",
       "      <td>62</td>\n",
       "      <td>MASCULINO</td>\n",
       "      <td>SUPERIOR COMPLETO</td>\n",
       "      <td>CASADO(A)</td>\n",
       "      <td>PARDA</td>\n",
       "      <td>COMERCIANTE</td>\n",
       "    </tr>\n",
       "    <tr>\n",
       "      <th>14100</th>\n",
       "      <td>EDENILSON GONÇALVES FERREIRA</td>\n",
       "      <td>TENENTE GONÇALVES</td>\n",
       "      <td>PREFEITO</td>\n",
       "      <td>REPUBLICANOS</td>\n",
       "      <td>IBICARAÍ</td>\n",
       "      <td>60</td>\n",
       "      <td>MASCULINO</td>\n",
       "      <td>ENSINO MÉDIO COMPLETO</td>\n",
       "      <td>CASADO(A)</td>\n",
       "      <td>PARDA</td>\n",
       "      <td>POLICIAL MILITAR</td>\n",
       "    </tr>\n",
       "    <tr>\n",
       "      <th>17240</th>\n",
       "      <td>LUIZ JÁCOME BRANDÃO NETO</td>\n",
       "      <td>LULA BRANDÃO</td>\n",
       "      <td>PREFEITO</td>\n",
       "      <td>PSD</td>\n",
       "      <td>ITABUNA</td>\n",
       "      <td>47</td>\n",
       "      <td>MASCULINO</td>\n",
       "      <td>ENSINO MÉDIO COMPLETO</td>\n",
       "      <td>CASADO(A)</td>\n",
       "      <td>PARDA</td>\n",
       "      <td>PREFEITO</td>\n",
       "    </tr>\n",
       "    <tr>\n",
       "      <th>21831</th>\n",
       "      <td>GIVANILSON FRANCISCO DOS SANTOS</td>\n",
       "      <td>VAN</td>\n",
       "      <td>VICE-PREFEITO</td>\n",
       "      <td>AVANTE</td>\n",
       "      <td>ITAPETINGA</td>\n",
       "      <td>49</td>\n",
       "      <td>MASCULINO</td>\n",
       "      <td>ENSINO FUNDAMENTAL COMPLETO</td>\n",
       "      <td>CASADO(A)</td>\n",
       "      <td>BRANCA</td>\n",
       "      <td>COMERCIANTE</td>\n",
       "    </tr>\n",
       "    <tr>\n",
       "      <th>29861</th>\n",
       "      <td>LENILDO ALVES SANTANA</td>\n",
       "      <td>LENILDO</td>\n",
       "      <td>PREFEITO</td>\n",
       "      <td>PT</td>\n",
       "      <td>FLORESTA AZUL</td>\n",
       "      <td>53</td>\n",
       "      <td>MASCULINO</td>\n",
       "      <td>SUPERIOR COMPLETO</td>\n",
       "      <td>CASADO(A)</td>\n",
       "      <td>PARDA</td>\n",
       "      <td>PROFESSOR DE ENSINO MÉDIO</td>\n",
       "    </tr>\n",
       "    <tr>\n",
       "      <th>30317</th>\n",
       "      <td>KLAUSS DE OLIVEIRA MARTINS PINHEIRO FARIAS</td>\n",
       "      <td>KLAUSS FARIAS</td>\n",
       "      <td>PREFEITO</td>\n",
       "      <td>PP</td>\n",
       "      <td>ITABUNA</td>\n",
       "      <td>37</td>\n",
       "      <td>MASCULINO</td>\n",
       "      <td>SUPERIOR COMPLETO</td>\n",
       "      <td>SOLTEIRO(A)</td>\n",
       "      <td>BRANCA</td>\n",
       "      <td>ADVOGADO</td>\n",
       "    </tr>\n",
       "    <tr>\n",
       "      <th>35243</th>\n",
       "      <td>HENRIQUE PIMENTEL SAMPAIO NETO</td>\n",
       "      <td>HENRIQUE SAMPAIO</td>\n",
       "      <td>VICE-PREFEITO</td>\n",
       "      <td>PP</td>\n",
       "      <td>IBICARAÍ</td>\n",
       "      <td>50</td>\n",
       "      <td>MASCULINO</td>\n",
       "      <td>SUPERIOR COMPLETO</td>\n",
       "      <td>CASADO(A)</td>\n",
       "      <td>PARDA</td>\n",
       "      <td>REPRESENTANTE COMERCIAL</td>\n",
       "    </tr>\n",
       "    <tr>\n",
       "      <th>39581</th>\n",
       "      <td>ADELSON OLIVEIRA DOS SANTOS</td>\n",
       "      <td>ADELSON DA BANCA</td>\n",
       "      <td>VICE-PREFEITO</td>\n",
       "      <td>DEM</td>\n",
       "      <td>ITAPITANGA</td>\n",
       "      <td>51</td>\n",
       "      <td>MASCULINO</td>\n",
       "      <td>ENSINO MÉDIO COMPLETO</td>\n",
       "      <td>CASADO(A)</td>\n",
       "      <td>PARDA</td>\n",
       "      <td>EMPRESÁRIO</td>\n",
       "    </tr>\n",
       "  </tbody>\n",
       "</table>\n",
       "</div>"
      ],
      "text/plain": [
       "                                             nome          nome_urna  \\\n",
       "7229                   MONALISA GONCALVES TAVARES       DRA MONALISA   \n",
       "10284                       FABIANE LYRA DE SOUZA            FABIANE   \n",
       "13981                        LEILTON SILVA GUEDES       DINHO GUEDES   \n",
       "14100                EDENILSON GONÇALVES FERREIRA  TENENTE GONÇALVES   \n",
       "17240                    LUIZ JÁCOME BRANDÃO NETO       LULA BRANDÃO   \n",
       "21831             GIVANILSON FRANCISCO DOS SANTOS                VAN   \n",
       "29861                       LENILDO ALVES SANTANA            LENILDO   \n",
       "30317  KLAUSS DE OLIVEIRA MARTINS PINHEIRO FARIAS      KLAUSS FARIAS   \n",
       "35243              HENRIQUE PIMENTEL SAMPAIO NETO   HENRIQUE SAMPAIO   \n",
       "39581                 ADELSON OLIVEIRA DOS SANTOS   ADELSON DA BANCA   \n",
       "\n",
       "               cargo       partido cidade_nascimento  idade_na_posse  \\\n",
       "7229        PREFEITO           DEM           ITABUNA              53   \n",
       "10284  VICE-PREFEITO            PT           ITABUNA              52   \n",
       "13981  VICE-PREFEITO  REPUBLICANOS          IBICARAÍ              62   \n",
       "14100       PREFEITO  REPUBLICANOS          IBICARAÍ              60   \n",
       "17240       PREFEITO           PSD           ITABUNA              47   \n",
       "21831  VICE-PREFEITO        AVANTE        ITAPETINGA              49   \n",
       "29861       PREFEITO            PT     FLORESTA AZUL              53   \n",
       "30317       PREFEITO            PP           ITABUNA              37   \n",
       "35243  VICE-PREFEITO            PP          IBICARAÍ              50   \n",
       "39581  VICE-PREFEITO           DEM        ITAPITANGA              51   \n",
       "\n",
       "            sexo               grau_instrucao estado_civil cor_raca  \\\n",
       "7229    FEMININO            SUPERIOR COMPLETO  SOLTEIRO(A)    PARDA   \n",
       "10284   FEMININO            SUPERIOR COMPLETO  SOLTEIRO(A)   BRANCA   \n",
       "13981  MASCULINO            SUPERIOR COMPLETO    CASADO(A)    PARDA   \n",
       "14100  MASCULINO        ENSINO MÉDIO COMPLETO    CASADO(A)    PARDA   \n",
       "17240  MASCULINO        ENSINO MÉDIO COMPLETO    CASADO(A)    PARDA   \n",
       "21831  MASCULINO  ENSINO FUNDAMENTAL COMPLETO    CASADO(A)   BRANCA   \n",
       "29861  MASCULINO            SUPERIOR COMPLETO    CASADO(A)    PARDA   \n",
       "30317  MASCULINO            SUPERIOR COMPLETO  SOLTEIRO(A)   BRANCA   \n",
       "35243  MASCULINO            SUPERIOR COMPLETO    CASADO(A)    PARDA   \n",
       "39581  MASCULINO        ENSINO MÉDIO COMPLETO    CASADO(A)    PARDA   \n",
       "\n",
       "                        ocupacao  \n",
       "7229                      MÉDICO  \n",
       "10284                 EMPRESÁRIO  \n",
       "13981                COMERCIANTE  \n",
       "14100           POLICIAL MILITAR  \n",
       "17240                   PREFEITO  \n",
       "21831                COMERCIANTE  \n",
       "29861  PROFESSOR DE ENSINO MÉDIO  \n",
       "30317                   ADVOGADO  \n",
       "35243    REPRESENTANTE COMERCIAL  \n",
       "39581                 EMPRESÁRIO  "
      ]
     },
     "execution_count": 25,
     "metadata": {},
     "output_type": "execute_result"
    }
   ],
   "source": [
    "cand_ibi.loc[cand_ibi['cargo'].str.contains('PREFEITO'), 'nome':'ocupacao']"
   ]
  },
  {
   "cell_type": "code",
   "execution_count": 106,
   "metadata": {},
   "outputs": [
    {
     "data": {
      "text/plain": [
       "ENSINO MÉDIO COMPLETO            11\n",
       "SUPERIOR COMPLETO                 4\n",
       "ENSINO FUNDAMENTAL COMPLETO       3\n",
       "ENSINO FUNDAMENTAL INCOMPLETO     3\n",
       "ENSINO MÉDIO INCOMPLETO           1\n",
       "Name: grau_instrucao, dtype: int64"
      ]
     },
     "execution_count": 106,
     "metadata": {},
     "output_type": "execute_result"
    }
   ],
   "source": [
    "# aqui podemos analisar o grau de instrucao de acordo com a cor declarada de cada 1\n",
    "cand_ibi[cand_ibi['cor_raca'].str.contains('PRETA')]['grau_instrucao'].value_counts()"
   ]
  },
  {
   "cell_type": "markdown",
   "metadata": {},
   "source": [
    "#### Sobre os Partidos"
   ]
  },
  {
   "cell_type": "code",
   "execution_count": 331,
   "metadata": {},
   "outputs": [
    {
     "data": {
      "text/plain": [
       "<matplotlib.axes._subplots.AxesSubplot at 0x2506f1ec780>"
      ]
     },
     "execution_count": 331,
     "metadata": {},
     "output_type": "execute_result"
    },
    {
     "data": {
      "image/png": "[encoded data removed]",
      "text/plain": [
       "<Figure size 432x288 with 1 Axes>"
      ]
     },
     "metadata": {
      "needs_background": "light"
     },
     "output_type": "display_data"
    }
   ],
   "source": [
    "cand_ibi['partido'].value_counts().plot(kind='bar')"
   ]
  },
  {
   "cell_type": "code",
   "execution_count": 26,
   "metadata": {},
   "outputs": [
    {
     "data": {
      "text/plain": [
       "PSD             7\n",
       "AVANTE          6\n",
       "PSC             6\n",
       "PATRIOTA        6\n",
       "DEM             6\n",
       "PT              5\n",
       "PSL             4\n",
       "PODE            4\n",
       "PP              4\n",
       "REPUBLICANOS    3\n",
       "PSDB            2\n",
       "Name: partido, dtype: int64"
      ]
     },
     "execution_count": 26,
     "metadata": {},
     "output_type": "execute_result"
    }
   ],
   "source": [
    "cand_ibi[cand_ibi['sexo'] == 'FEMININO']['partido'].value_counts()"
   ]
  },
  {
   "cell_type": "code",
   "execution_count": 28,
   "metadata": {},
   "outputs": [
    {
     "data": {
      "text/plain": [
       "partido       sexo     \n",
       "AVANTE        MASCULINO    12\n",
       "              FEMININO      6\n",
       "DEM           MASCULINO    12\n",
       "              FEMININO      6\n",
       "MDB           MASCULINO     1\n",
       "PATRIOTA      MASCULINO    10\n",
       "              FEMININO      6\n",
       "PODE          MASCULINO     8\n",
       "              FEMININO      4\n",
       "PP            MASCULINO    10\n",
       "              FEMININO      4\n",
       "PSC           MASCULINO    11\n",
       "              FEMININO      6\n",
       "PSD           MASCULINO     9\n",
       "              FEMININO      7\n",
       "PSDB          FEMININO      2\n",
       "              MASCULINO     2\n",
       "PSL           MASCULINO     9\n",
       "              FEMININO      4\n",
       "PT            MASCULINO    10\n",
       "              FEMININO      5\n",
       "REPUBLICANOS  MASCULINO     7\n",
       "              FEMININO      3\n",
       "Name: sexo, dtype: int64"
      ]
     },
     "execution_count": 28,
     "metadata": {},
     "output_type": "execute_result"
    }
   ],
   "source": [
    "cand_ibi.groupby('partido')['sexo'].value_counts()"
   ]
  },
  {
   "cell_type": "markdown",
   "metadata": {},
   "source": [
    "#### Idade na Posse"
   ]
  },
  {
   "cell_type": "code",
   "execution_count": 27,
   "metadata": {},
   "outputs": [
    {
     "data": {
      "text/plain": [
       "24    1\n",
       "25    1\n",
       "26    2\n",
       "33    1\n",
       "34    1\n",
       "36    1\n",
       "37    2\n",
       "38    2\n",
       "39    1\n",
       "40    3\n",
       "41    2\n",
       "42    4\n",
       "43    2\n",
       "44    1\n",
       "45    2\n",
       "46    3\n",
       "47    2\n",
       "48    1\n",
       "49    1\n",
       "50    1\n",
       "51    2\n",
       "52    3\n",
       "53    2\n",
       "54    2\n",
       "55    2\n",
       "57    3\n",
       "60    1\n",
       "61    1\n",
       "64    2\n",
       "65    1\n",
       "Name: idade_na_posse, dtype: int64"
      ]
     },
     "execution_count": 27,
     "metadata": {},
     "output_type": "execute_result"
    }
   ],
   "source": [
    "cand_ibi[cand_ibi['sexo'] == 'FEMININO']['idade_na_posse'].value_counts().sort_index()"
   ]
  },
  {
   "cell_type": "code",
   "execution_count": 84,
   "metadata": {},
   "outputs": [
    {
     "data": {
      "text/plain": [
       "22    1\n",
       "24    2\n",
       "25    2\n",
       "26    3\n",
       "27    2\n",
       "28    3\n",
       "29    1\n",
       "30    2\n",
       "33    4\n",
       "34    4\n",
       "35    2\n",
       "36    4\n",
       "37    5\n",
       "38    4\n",
       "39    2\n",
       "40    5\n",
       "41    3\n",
       "42    9\n",
       "43    6\n",
       "44    5\n",
       "45    2\n",
       "46    6\n",
       "47    5\n",
       "48    3\n",
       "49    6\n",
       "50    9\n",
       "51    4\n",
       "52    8\n",
       "53    5\n",
       "54    2\n",
       "55    4\n",
       "56    1\n",
       "57    3\n",
       "58    3\n",
       "59    3\n",
       "60    4\n",
       "61    1\n",
       "62    4\n",
       "63    2\n",
       "64    2\n",
       "65    1\n",
       "67    3\n",
       "70    1\n",
       "73    1\n",
       "78    2\n",
       "Name: idade_na_posse, dtype: int64"
      ]
     },
     "execution_count": 84,
     "metadata": {},
     "output_type": "execute_result"
    }
   ],
   "source": [
    "cand_ibi['idade_na_posse'].value_counts().sort_index()"
   ]
  },
  {
   "cell_type": "markdown",
   "metadata": {},
   "source": [
    "#### Sexo"
   ]
  },
  {
   "cell_type": "code",
   "execution_count": 334,
   "metadata": {},
   "outputs": [
    {
     "data": {
      "text/plain": [
       "<matplotlib.axes._subplots.AxesSubplot at 0x2504025aa90>"
      ]
     },
     "execution_count": 334,
     "metadata": {},
     "output_type": "execute_result"
    },
    {
     "data": {
      "image/png": "[encoded data removed]",
      "text/plain": [
       "<Figure size 432x288 with 1 Axes>"
      ]
     },
     "metadata": {
      "needs_background": "light"
     },
     "output_type": "display_data"
    }
   ],
   "source": [
    "cand_ibi['sexo'].value_counts().plot(kind='bar')"
   ]
  },
  {
   "cell_type": "code",
   "execution_count": null,
   "metadata": {},
   "outputs": [],
   "source": [
    "sns.countplot(x=)"
   ]
  },
  {
   "cell_type": "markdown",
   "metadata": {},
   "source": [
    "#### Grau de Instrucao"
   ]
  },
  {
   "cell_type": "code",
   "execution_count": 337,
   "metadata": {},
   "outputs": [
    {
     "data": {
      "text/plain": [
       "<matplotlib.axes._subplots.AxesSubplot at 0x250402919e8>"
      ]
     },
     "execution_count": 337,
     "metadata": {},
     "output_type": "execute_result"
    },
    {
     "data": {
      "image/png": "[encoded data removed]",
      "text/plain": [
       "<Figure size 432x288 with 1 Axes>"
      ]
     },
     "metadata": {
      "needs_background": "light"
     },
     "output_type": "display_data"
    }
   ],
   "source": [
    "cand_ibi['grau_instrucao'].value_counts().plot(kind='bar')"
   ]
  },
  {
   "cell_type": "code",
   "execution_count": null,
   "metadata": {},
   "outputs": [],
   "source": [
    "sns.countplot(x=cand_ibi['grau_instrucao'], data=cand_ibi, hue=cand_ibi['idade_na_posse'])\n",
    "plt.xticks(rotation=90)"
   ]
  },
  {
   "cell_type": "markdown",
   "metadata": {},
   "source": [
    "#### Cor Raca"
   ]
  },
  {
   "cell_type": "code",
   "execution_count": 12,
   "metadata": {},
   "outputs": [
    {
     "data": {
      "text/plain": [
       "<matplotlib.axes._subplots.AxesSubplot at 0x14e56d58588>"
      ]
     },
     "execution_count": 12,
     "metadata": {},
     "output_type": "execute_result"
    },
    {
     "data": {
      "image/png": "[encoded data removed]",
      "text/plain": [
       "<Figure size 432x288 with 1 Axes>"
      ]
     },
     "metadata": {
      "needs_background": "light"
     },
     "output_type": "display_data"
    }
   ],
   "source": [
    "sns.countplot(x=cand_ibi['cor_raca'], data=cand_ibi, hue=cand_ibi['sexo'])"
   ]
  },
  {
   "cell_type": "code",
   "execution_count": 131,
   "metadata": {},
   "outputs": [
    {
     "data": {
      "text/plain": [
       "<AxesSubplot:>"
      ]
     },
     "execution_count": 131,
     "metadata": {},
     "output_type": "execute_result"
    },
    {
     "data": {
      "image/png": "[encoded data removed]",
      "text/plain": [
       "<Figure size 432x288 with 1 Axes>"
      ]
     },
     "metadata": {
      "needs_background": "light"
     },
     "output_type": "display_data"
    }
   ],
   "source": [
    "x = cand_ibicarai.groupby('sexo')['cor_raca'].get_group('Masculino').value_counts(normalize=True)*100\n",
    "x.plot(kind='bar')"
   ]
  },
  {
   "cell_type": "code",
   "execution_count": null,
   "metadata": {},
   "outputs": [],
   "source": []
  },
  {
   "cell_type": "markdown",
   "metadata": {},
   "source": [
    "### Eleitores de Ibicarai"
   ]
  },
  {
   "cell_type": "code",
   "execution_count": 22,
   "metadata": {},
   "outputs": [],
   "source": [
    "eleitores = pd.read_csv('eleitorado.csv', encoding='latin', sep=';')\n",
    "ibi = eleitores[(eleitores['SG_UF'] == 'BA') & (eleitores['NM_MUNICIPIO'] == 'IBICARAÍ')]"
   ]
  },
  {
   "cell_type": "code",
   "execution_count": 23,
   "metadata": {},
   "outputs": [
    {
     "data": {
      "text/plain": [
       "569"
      ]
     },
     "execution_count": 23,
     "metadata": {},
     "output_type": "execute_result"
    }
   ],
   "source": [
    "ibi[ibi['DS_ESTADO_CIVIL'].isin(['VIÚVO'])]['QT_ELEITORES_PERFIL'].sum()"
   ]
  },
  {
   "cell_type": "code",
   "execution_count": 24,
   "metadata": {},
   "outputs": [
    {
     "name": "stdout",
     "output_type": "stream",
     "text": [
      "ENSINO FUNDAMENTAL COMPLETO: 988\n",
      "ENSINO MÉDIO COMPLETO: 4001\n",
      "SUPERIOR INCOMPLETO: 640\n",
      "ENSINO MÉDIO INCOMPLETO: 2393\n",
      "ENSINO FUNDAMENTAL INCOMPLETO: 5232\n",
      "SUPERIOR COMPLETO: 1466\n",
      "LÊ E ESCREVE: 2108\n",
      "ANALFABETO: 2365\n",
      "NÃO INFORMADO: 10\n"
     ]
    }
   ],
   "source": [
    "for x in ibi['DS_GRAU_ESCOLARIDADE'].unique():\n",
    "    print(x + ':', ibi[ibi['DS_GRAU_ESCOLARIDADE'].isin([x])]['QT_ELEITORES_PERFIL'].sum())"
   ]
  },
  {
   "cell_type": "code",
   "execution_count": 36,
   "metadata": {},
   "outputs": [
    {
     "data": {
      "text/html": [
       "<div>\n",
       "<style scoped>\n",
       "    .dataframe tbody tr th:only-of-type {\n",
       "        vertical-align: middle;\n",
       "    }\n",
       "\n",
       "    .dataframe tbody tr th {\n",
       "        vertical-align: top;\n",
       "    }\n",
       "\n",
       "    .dataframe thead th {\n",
       "        text-align: right;\n",
       "    }\n",
       "</style>\n",
       "<table border=\"1\" class=\"dataframe\">\n",
       "  <thead>\n",
       "    <tr style=\"text-align: right;\">\n",
       "      <th></th>\n",
       "      <th>QT_ELEITORES_PERFIL</th>\n",
       "    </tr>\n",
       "    <tr>\n",
       "      <th>DS_ESTADO_CIVIL</th>\n",
       "      <th></th>\n",
       "    </tr>\n",
       "  </thead>\n",
       "  <tbody>\n",
       "    <tr>\n",
       "      <th>CASADO</th>\n",
       "      <td>3642</td>\n",
       "    </tr>\n",
       "    <tr>\n",
       "      <th>DIVORCIADO</th>\n",
       "      <td>418</td>\n",
       "    </tr>\n",
       "    <tr>\n",
       "      <th>NÃO INFORMADO</th>\n",
       "      <td>13</td>\n",
       "    </tr>\n",
       "    <tr>\n",
       "      <th>SEPARADO JUDICIALMENTE</th>\n",
       "      <td>77</td>\n",
       "    </tr>\n",
       "    <tr>\n",
       "      <th>SOLTEIRO</th>\n",
       "      <td>14484</td>\n",
       "    </tr>\n",
       "    <tr>\n",
       "      <th>VIÚVO</th>\n",
       "      <td>569</td>\n",
       "    </tr>\n",
       "  </tbody>\n",
       "</table>\n",
       "</div>"
      ],
      "text/plain": [
       "                        QT_ELEITORES_PERFIL\n",
       "DS_ESTADO_CIVIL                            \n",
       "CASADO                                 3642\n",
       "DIVORCIADO                              418\n",
       "NÃO INFORMADO                            13\n",
       "SEPARADO JUDICIALMENTE                   77\n",
       "SOLTEIRO                              14484\n",
       "VIÚVO                                   569"
      ]
     },
     "execution_count": 36,
     "metadata": {},
     "output_type": "execute_result"
    }
   ],
   "source": [
    "ibi.groupby('DS_ESTADO_CIVIL')[['QT_ELEITORES_PERFIL']].sum()"
   ]
  },
  {
   "cell_type": "code",
   "execution_count": 29,
   "metadata": {},
   "outputs": [
    {
     "data": {
      "text/plain": [
       "Index(['DT_GERACAO', 'HH_GERACAO', 'ANO_ELEICAO', 'SG_UF', 'CD_MUNICIPIO',\n",
       "       'NM_MUNICIPIO', 'CD_MUN_SIT_BIOMETRIA', 'DS_MUN_SIT_BIOMETRIA',\n",
       "       'NR_ZONA', 'CD_GENERO', 'DS_GENERO', 'CD_ESTADO_CIVIL',\n",
       "       'DS_ESTADO_CIVIL', 'CD_FAIXA_ETARIA', 'DS_FAIXA_ETARIA',\n",
       "       'CD_GRAU_ESCOLARIDADE', 'DS_GRAU_ESCOLARIDADE', 'QT_ELEITORES_PERFIL',\n",
       "       'QT_ELEITORES_BIOMETRIA', 'QT_ELEITORES_DEFICIENCIA',\n",
       "       'QT_ELEITORES_INC_NM_SOCIAL'],\n",
       "      dtype='object')"
      ]
     },
     "execution_count": 29,
     "metadata": {},
     "output_type": "execute_result"
    }
   ],
   "source": [
    "ibi.columns"
   ]
  },
  {
   "cell_type": "code",
   "execution_count": 31,
   "metadata": {},
   "outputs": [
    {
     "data": {
      "text/html": [
       "<div>\n",
       "<style scoped>\n",
       "    .dataframe tbody tr th:only-of-type {\n",
       "        vertical-align: middle;\n",
       "    }\n",
       "\n",
       "    .dataframe tbody tr th {\n",
       "        vertical-align: top;\n",
       "    }\n",
       "\n",
       "    .dataframe thead th {\n",
       "        text-align: right;\n",
       "    }\n",
       "</style>\n",
       "<table border=\"1\" class=\"dataframe\">\n",
       "  <thead>\n",
       "    <tr style=\"text-align: right;\">\n",
       "      <th></th>\n",
       "      <th>DT_GERACAO</th>\n",
       "      <th>HH_GERACAO</th>\n",
       "      <th>ANO_ELEICAO</th>\n",
       "      <th>SG_UF</th>\n",
       "      <th>CD_MUNICIPIO</th>\n",
       "      <th>NM_MUNICIPIO</th>\n",
       "      <th>CD_MUN_SIT_BIOMETRIA</th>\n",
       "      <th>DS_MUN_SIT_BIOMETRIA</th>\n",
       "      <th>NR_ZONA</th>\n",
       "      <th>CD_GENERO</th>\n",
       "      <th>...</th>\n",
       "      <th>CD_ESTADO_CIVIL</th>\n",
       "      <th>DS_ESTADO_CIVIL</th>\n",
       "      <th>CD_FAIXA_ETARIA</th>\n",
       "      <th>DS_FAIXA_ETARIA</th>\n",
       "      <th>CD_GRAU_ESCOLARIDADE</th>\n",
       "      <th>DS_GRAU_ESCOLARIDADE</th>\n",
       "      <th>QT_ELEITORES_PERFIL</th>\n",
       "      <th>QT_ELEITORES_BIOMETRIA</th>\n",
       "      <th>QT_ELEITORES_DEFICIENCIA</th>\n",
       "      <th>QT_ELEITORES_INC_NM_SOCIAL</th>\n",
       "    </tr>\n",
       "  </thead>\n",
       "  <tbody>\n",
       "    <tr>\n",
       "      <th>108561</th>\n",
       "      <td>04/09/2020</td>\n",
       "      <td>17:42:53</td>\n",
       "      <td>9999</td>\n",
       "      <td>BA</td>\n",
       "      <td>35416</td>\n",
       "      <td>IBICARAÍ</td>\n",
       "      <td>-1</td>\n",
       "      <td>#NULO#</td>\n",
       "      <td>29</td>\n",
       "      <td>2</td>\n",
       "      <td>...</td>\n",
       "      <td>1</td>\n",
       "      <td>SOLTEIRO</td>\n",
       "      <td>1600</td>\n",
       "      <td>16 anos</td>\n",
       "      <td>4</td>\n",
       "      <td>ENSINO FUNDAMENTAL COMPLETO</td>\n",
       "      <td>1</td>\n",
       "      <td>0</td>\n",
       "      <td>0</td>\n",
       "      <td>0</td>\n",
       "    </tr>\n",
       "    <tr>\n",
       "      <th>108562</th>\n",
       "      <td>04/09/2020</td>\n",
       "      <td>17:42:53</td>\n",
       "      <td>9999</td>\n",
       "      <td>BA</td>\n",
       "      <td>35416</td>\n",
       "      <td>IBICARAÍ</td>\n",
       "      <td>-1</td>\n",
       "      <td>#NULO#</td>\n",
       "      <td>29</td>\n",
       "      <td>2</td>\n",
       "      <td>...</td>\n",
       "      <td>1</td>\n",
       "      <td>SOLTEIRO</td>\n",
       "      <td>1700</td>\n",
       "      <td>17 anos</td>\n",
       "      <td>6</td>\n",
       "      <td>ENSINO MÉDIO COMPLETO</td>\n",
       "      <td>5</td>\n",
       "      <td>4</td>\n",
       "      <td>0</td>\n",
       "      <td>0</td>\n",
       "    </tr>\n",
       "    <tr>\n",
       "      <th>108563</th>\n",
       "      <td>04/09/2020</td>\n",
       "      <td>17:42:53</td>\n",
       "      <td>9999</td>\n",
       "      <td>BA</td>\n",
       "      <td>35416</td>\n",
       "      <td>IBICARAÍ</td>\n",
       "      <td>-1</td>\n",
       "      <td>#NULO#</td>\n",
       "      <td>29</td>\n",
       "      <td>2</td>\n",
       "      <td>...</td>\n",
       "      <td>1</td>\n",
       "      <td>SOLTEIRO</td>\n",
       "      <td>1800</td>\n",
       "      <td>18 anos</td>\n",
       "      <td>7</td>\n",
       "      <td>SUPERIOR INCOMPLETO</td>\n",
       "      <td>1</td>\n",
       "      <td>1</td>\n",
       "      <td>0</td>\n",
       "      <td>0</td>\n",
       "    </tr>\n",
       "    <tr>\n",
       "      <th>108564</th>\n",
       "      <td>04/09/2020</td>\n",
       "      <td>17:42:53</td>\n",
       "      <td>9999</td>\n",
       "      <td>BA</td>\n",
       "      <td>35416</td>\n",
       "      <td>IBICARAÍ</td>\n",
       "      <td>-1</td>\n",
       "      <td>#NULO#</td>\n",
       "      <td>29</td>\n",
       "      <td>2</td>\n",
       "      <td>...</td>\n",
       "      <td>1</td>\n",
       "      <td>SOLTEIRO</td>\n",
       "      <td>4044</td>\n",
       "      <td>40 a 44 anos</td>\n",
       "      <td>5</td>\n",
       "      <td>ENSINO MÉDIO INCOMPLETO</td>\n",
       "      <td>55</td>\n",
       "      <td>48</td>\n",
       "      <td>0</td>\n",
       "      <td>0</td>\n",
       "    </tr>\n",
       "    <tr>\n",
       "      <th>108565</th>\n",
       "      <td>04/09/2020</td>\n",
       "      <td>17:42:53</td>\n",
       "      <td>9999</td>\n",
       "      <td>BA</td>\n",
       "      <td>35416</td>\n",
       "      <td>IBICARAÍ</td>\n",
       "      <td>-1</td>\n",
       "      <td>#NULO#</td>\n",
       "      <td>29</td>\n",
       "      <td>2</td>\n",
       "      <td>...</td>\n",
       "      <td>1</td>\n",
       "      <td>SOLTEIRO</td>\n",
       "      <td>5054</td>\n",
       "      <td>50 a 54 anos</td>\n",
       "      <td>3</td>\n",
       "      <td>ENSINO FUNDAMENTAL INCOMPLETO</td>\n",
       "      <td>149</td>\n",
       "      <td>132</td>\n",
       "      <td>0</td>\n",
       "      <td>0</td>\n",
       "    </tr>\n",
       "    <tr>\n",
       "      <th>...</th>\n",
       "      <td>...</td>\n",
       "      <td>...</td>\n",
       "      <td>...</td>\n",
       "      <td>...</td>\n",
       "      <td>...</td>\n",
       "      <td>...</td>\n",
       "      <td>...</td>\n",
       "      <td>...</td>\n",
       "      <td>...</td>\n",
       "      <td>...</td>\n",
       "      <td>...</td>\n",
       "      <td>...</td>\n",
       "      <td>...</td>\n",
       "      <td>...</td>\n",
       "      <td>...</td>\n",
       "      <td>...</td>\n",
       "      <td>...</td>\n",
       "      <td>...</td>\n",
       "      <td>...</td>\n",
       "      <td>...</td>\n",
       "      <td>...</td>\n",
       "    </tr>\n",
       "    <tr>\n",
       "      <th>642159</th>\n",
       "      <td>04/09/2020</td>\n",
       "      <td>17:42:53</td>\n",
       "      <td>9999</td>\n",
       "      <td>BA</td>\n",
       "      <td>35416</td>\n",
       "      <td>IBICARAÍ</td>\n",
       "      <td>-1</td>\n",
       "      <td>#NULO#</td>\n",
       "      <td>29</td>\n",
       "      <td>4</td>\n",
       "      <td>...</td>\n",
       "      <td>9</td>\n",
       "      <td>DIVORCIADO</td>\n",
       "      <td>6569</td>\n",
       "      <td>65 a 69 anos</td>\n",
       "      <td>1</td>\n",
       "      <td>ANALFABETO</td>\n",
       "      <td>3</td>\n",
       "      <td>2</td>\n",
       "      <td>0</td>\n",
       "      <td>0</td>\n",
       "    </tr>\n",
       "    <tr>\n",
       "      <th>642160</th>\n",
       "      <td>04/09/2020</td>\n",
       "      <td>17:42:53</td>\n",
       "      <td>9999</td>\n",
       "      <td>BA</td>\n",
       "      <td>35416</td>\n",
       "      <td>IBICARAÍ</td>\n",
       "      <td>-1</td>\n",
       "      <td>#NULO#</td>\n",
       "      <td>29</td>\n",
       "      <td>4</td>\n",
       "      <td>...</td>\n",
       "      <td>9</td>\n",
       "      <td>DIVORCIADO</td>\n",
       "      <td>6569</td>\n",
       "      <td>65 a 69 anos</td>\n",
       "      <td>8</td>\n",
       "      <td>SUPERIOR COMPLETO</td>\n",
       "      <td>1</td>\n",
       "      <td>1</td>\n",
       "      <td>0</td>\n",
       "      <td>0</td>\n",
       "    </tr>\n",
       "    <tr>\n",
       "      <th>642161</th>\n",
       "      <td>04/09/2020</td>\n",
       "      <td>17:42:53</td>\n",
       "      <td>9999</td>\n",
       "      <td>BA</td>\n",
       "      <td>35416</td>\n",
       "      <td>IBICARAÍ</td>\n",
       "      <td>-1</td>\n",
       "      <td>#NULO#</td>\n",
       "      <td>29</td>\n",
       "      <td>4</td>\n",
       "      <td>...</td>\n",
       "      <td>9</td>\n",
       "      <td>DIVORCIADO</td>\n",
       "      <td>7074</td>\n",
       "      <td>70 a 74 anos</td>\n",
       "      <td>4</td>\n",
       "      <td>ENSINO FUNDAMENTAL COMPLETO</td>\n",
       "      <td>1</td>\n",
       "      <td>0</td>\n",
       "      <td>0</td>\n",
       "      <td>0</td>\n",
       "    </tr>\n",
       "    <tr>\n",
       "      <th>642162</th>\n",
       "      <td>04/09/2020</td>\n",
       "      <td>17:42:53</td>\n",
       "      <td>9999</td>\n",
       "      <td>BA</td>\n",
       "      <td>35416</td>\n",
       "      <td>IBICARAÍ</td>\n",
       "      <td>-1</td>\n",
       "      <td>#NULO#</td>\n",
       "      <td>29</td>\n",
       "      <td>4</td>\n",
       "      <td>...</td>\n",
       "      <td>9</td>\n",
       "      <td>DIVORCIADO</td>\n",
       "      <td>8084</td>\n",
       "      <td>80 a 84 anos</td>\n",
       "      <td>5</td>\n",
       "      <td>ENSINO MÉDIO INCOMPLETO</td>\n",
       "      <td>1</td>\n",
       "      <td>1</td>\n",
       "      <td>0</td>\n",
       "      <td>0</td>\n",
       "    </tr>\n",
       "    <tr>\n",
       "      <th>642163</th>\n",
       "      <td>04/09/2020</td>\n",
       "      <td>17:42:53</td>\n",
       "      <td>9999</td>\n",
       "      <td>BA</td>\n",
       "      <td>35416</td>\n",
       "      <td>IBICARAÍ</td>\n",
       "      <td>-1</td>\n",
       "      <td>#NULO#</td>\n",
       "      <td>29</td>\n",
       "      <td>4</td>\n",
       "      <td>...</td>\n",
       "      <td>9</td>\n",
       "      <td>DIVORCIADO</td>\n",
       "      <td>8589</td>\n",
       "      <td>85 a 89 anos</td>\n",
       "      <td>1</td>\n",
       "      <td>ANALFABETO</td>\n",
       "      <td>1</td>\n",
       "      <td>1</td>\n",
       "      <td>0</td>\n",
       "      <td>0</td>\n",
       "    </tr>\n",
       "  </tbody>\n",
       "</table>\n",
       "<p>829 rows × 21 columns</p>\n",
       "</div>"
      ],
      "text/plain": [
       "        DT_GERACAO HH_GERACAO  ANO_ELEICAO SG_UF  CD_MUNICIPIO NM_MUNICIPIO  \\\n",
       "108561  04/09/2020   17:42:53         9999    BA         35416     IBICARAÍ   \n",
       "108562  04/09/2020   17:42:53         9999    BA         35416     IBICARAÍ   \n",
       "108563  04/09/2020   17:42:53         9999    BA         35416     IBICARAÍ   \n",
       "108564  04/09/2020   17:42:53         9999    BA         35416     IBICARAÍ   \n",
       "108565  04/09/2020   17:42:53         9999    BA         35416     IBICARAÍ   \n",
       "...            ...        ...          ...   ...           ...          ...   \n",
       "642159  04/09/2020   17:42:53         9999    BA         35416     IBICARAÍ   \n",
       "642160  04/09/2020   17:42:53         9999    BA         35416     IBICARAÍ   \n",
       "642161  04/09/2020   17:42:53         9999    BA         35416     IBICARAÍ   \n",
       "642162  04/09/2020   17:42:53         9999    BA         35416     IBICARAÍ   \n",
       "642163  04/09/2020   17:42:53         9999    BA         35416     IBICARAÍ   \n",
       "\n",
       "        CD_MUN_SIT_BIOMETRIA DS_MUN_SIT_BIOMETRIA  NR_ZONA  CD_GENERO  ...  \\\n",
       "108561                    -1               #NULO#       29          2  ...   \n",
       "108562                    -1               #NULO#       29          2  ...   \n",
       "108563                    -1               #NULO#       29          2  ...   \n",
       "108564                    -1               #NULO#       29          2  ...   \n",
       "108565                    -1               #NULO#       29          2  ...   \n",
       "...                      ...                  ...      ...        ...  ...   \n",
       "642159                    -1               #NULO#       29          4  ...   \n",
       "642160                    -1               #NULO#       29          4  ...   \n",
       "642161                    -1               #NULO#       29          4  ...   \n",
       "642162                    -1               #NULO#       29          4  ...   \n",
       "642163                    -1               #NULO#       29          4  ...   \n",
       "\n",
       "       CD_ESTADO_CIVIL  DS_ESTADO_CIVIL CD_FAIXA_ETARIA  DS_FAIXA_ETARIA  \\\n",
       "108561               1         SOLTEIRO            1600          16 anos   \n",
       "108562               1         SOLTEIRO            1700          17 anos   \n",
       "108563               1         SOLTEIRO            1800          18 anos   \n",
       "108564               1         SOLTEIRO            4044     40 a 44 anos   \n",
       "108565               1         SOLTEIRO            5054     50 a 54 anos   \n",
       "...                ...              ...             ...              ...   \n",
       "642159               9       DIVORCIADO            6569     65 a 69 anos   \n",
       "642160               9       DIVORCIADO            6569     65 a 69 anos   \n",
       "642161               9       DIVORCIADO            7074     70 a 74 anos   \n",
       "642162               9       DIVORCIADO            8084     80 a 84 anos   \n",
       "642163               9       DIVORCIADO            8589     85 a 89 anos   \n",
       "\n",
       "       CD_GRAU_ESCOLARIDADE           DS_GRAU_ESCOLARIDADE  \\\n",
       "108561                    4    ENSINO FUNDAMENTAL COMPLETO   \n",
       "108562                    6          ENSINO MÉDIO COMPLETO   \n",
       "108563                    7            SUPERIOR INCOMPLETO   \n",
       "108564                    5        ENSINO MÉDIO INCOMPLETO   \n",
       "108565                    3  ENSINO FUNDAMENTAL INCOMPLETO   \n",
       "...                     ...                            ...   \n",
       "642159                    1                     ANALFABETO   \n",
       "642160                    8              SUPERIOR COMPLETO   \n",
       "642161                    4    ENSINO FUNDAMENTAL COMPLETO   \n",
       "642162                    5        ENSINO MÉDIO INCOMPLETO   \n",
       "642163                    1                     ANALFABETO   \n",
       "\n",
       "       QT_ELEITORES_PERFIL  QT_ELEITORES_BIOMETRIA  QT_ELEITORES_DEFICIENCIA  \\\n",
       "108561                   1                       0                         0   \n",
       "108562                   5                       4                         0   \n",
       "108563                   1                       1                         0   \n",
       "108564                  55                      48                         0   \n",
       "108565                 149                     132                         0   \n",
       "...                    ...                     ...                       ...   \n",
       "642159                   3                       2                         0   \n",
       "642160                   1                       1                         0   \n",
       "642161                   1                       0                         0   \n",
       "642162                   1                       1                         0   \n",
       "642163                   1                       1                         0   \n",
       "\n",
       "        QT_ELEITORES_INC_NM_SOCIAL  \n",
       "108561                           0  \n",
       "108562                           0  \n",
       "108563                           0  \n",
       "108564                           0  \n",
       "108565                           0  \n",
       "...                            ...  \n",
       "642159                           0  \n",
       "642160                           0  \n",
       "642161                           0  \n",
       "642162                           0  \n",
       "642163                           0  \n",
       "\n",
       "[829 rows x 21 columns]"
      ]
     },
     "execution_count": 31,
     "metadata": {},
     "output_type": "execute_result"
    }
   ],
   "source": [
    "ibi"
   ]
  },
  {
   "cell_type": "code",
   "execution_count": 82,
   "metadata": {},
   "outputs": [
    {
     "data": {
      "text/plain": [
       "Text(0.5, 0, 'Faixa Etaria x Grau Escolaridade')"
      ]
     },
     "execution_count": 82,
     "metadata": {},
     "output_type": "execute_result"
    },
    {
     "data": {
      "image/png": "[encoded data removed]",
      "text/plain": [
       "<Figure size 1872x1008 with 1 Axes>"
      ]
     },
     "metadata": {
      "needs_background": "light"
     },
     "output_type": "display_data"
    }
   ],
   "source": [
    "plt.figure(figsize=(26, 14))\n",
    "sns.countplot(x=ibi['DS_GRAU_ESCOLARIDADE'], hue=ibi['DS_FAIXA_ETARIA'])\n",
    "plt.xticks(rotation=45, fontsize=16)\n",
    "plt.xlabel('Faixa Etaria x Grau Escolaridade', fontsize=20)\n"
   ]
  },
  {
   "cell_type": "code",
   "execution_count": null,
   "metadata": {},
   "outputs": [],
   "source": []
  },
  {
   "cell_type": "code",
   "execution_count": null,
   "metadata": {},
   "outputs": [],
   "source": []
  }
 ],
 "metadata": {
  "kernelspec": {
   "display_name": "Python 3",
   "language": "python",
   "name": "python3"
  },
  "language_info": {
   "codemirror_mode": {
    "name": "ipython",
    "version": 3
   },
   "file_extension": ".py",
   "mimetype": "text/x-python",
   "name": "python",
   "nbconvert_exporter": "python",
   "pygments_lexer": "ipython3",
   "version": "3.7.0"
  }
 },
 "nbformat": 4,
 "nbformat_minor": 2
}
